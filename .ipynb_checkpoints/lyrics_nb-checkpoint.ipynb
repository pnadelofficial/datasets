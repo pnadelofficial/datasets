{
 "cells": [
  {
   "cell_type": "code",
   "execution_count": 2,
   "metadata": {},
   "outputs": [],
   "source": [
    "client_access_token = \"HpIYpWE8urYEimLXmjRsNBXLUERWVVS85HHCQEWrSKBedFN0b7OxCweWpLbk7CT-\""
   ]
  },
  {
   "cell_type": "code",
   "execution_count": 3,
   "metadata": {},
   "outputs": [],
   "source": [
    "import lyricsgenius"
   ]
  },
  {
   "cell_type": "code",
   "execution_count": 4,
   "metadata": {},
   "outputs": [],
   "source": [
    "LyricsGenius = lyricsgenius.Genius(client_access_token)\n",
    "LyricsGenius.excluded_terms = [\"Live\", \"(Live)\", \"MTV Unplugged\", \"Demo\"]"
   ]
  },
  {
   "cell_type": "code",
   "execution_count": 5,
   "metadata": {},
   "outputs": [],
   "source": [
    "from bs4 import BeautifulSoup\n",
    "import re\n",
    "import lyricsgenius\n",
    "import requests"
   ]
  },
  {
   "cell_type": "code",
   "execution_count": 6,
   "metadata": {},
   "outputs": [],
   "source": [
    "import json\n",
    "import pandas as pd\n",
    "import collections\n",
    "def getSongs(artist, album_name=None, max_songs=None):\n",
    "    clean_name = artist.replace(' ', '')\n",
    "    clean_album = album_name.replace(' ', '')\n",
    "    lyrics_dict = collections.defaultdict(str)\n",
    "    if album_name is None:\n",
    "        artist_obj = LyricsGenius.search_artist(artist, max_songs=max_songs)\n",
    "        artist_obj.save_lyrics(filename=f'Lyrics_{clean_name}', overwrite=True)\n",
    "        print('Data saved')\n",
    "        with open(f'Lyrics_{clean_name}.json') as f:\n",
    "            data = json.load(f)\n",
    "        print('Data loaded')\n",
    "        for song in data['songs']:\n",
    "            lyrics_dict[song['title']] += song['lyrics']\n",
    "    else:\n",
    "        album_obj = LyricsGenius.search_album(album_name, artist)\n",
    "        album_obj.save_lyrics(filename=f'Lyrics_{clean_album}', overwrite=True)\n",
    "        print('Data saved')\n",
    "        with open(f'Lyrics_{clean_album}.json') as f:\n",
    "            data = json.load(f)\n",
    "        print('Data loaded')\n",
    "        for song in data['tracks']:\n",
    "            lyrics_dict[song['song']['full_title'].split('by')[0].strip()] += song['song']['lyrics']\n",
    " \n",
    "    lyrics_df = pd.DataFrame.from_dict(dict(lyrics_dict), orient='index').reset_index().rename(columns={0:'song_title',1:'lyrics'})\n",
    "    return lyrics_df\n",
    "    "
   ]
  },
  {
   "cell_type": "code",
   "execution_count": 7,
   "metadata": {},
   "outputs": [
    {
     "name": "stdout",
     "output_type": "stream",
     "text": [
      "Searching for \"Revolver\" by The Beatles...\n",
      "Wrote Lyrics_Revolver.json.\n",
      "Data saved\n",
      "Data loaded\n"
     ]
    },
    {
     "data": {
      "text/html": [
       "<div>\n",
       "<style scoped>\n",
       "    .dataframe tbody tr th:only-of-type {\n",
       "        vertical-align: middle;\n",
       "    }\n",
       "\n",
       "    .dataframe tbody tr th {\n",
       "        vertical-align: top;\n",
       "    }\n",
       "\n",
       "    .dataframe thead th {\n",
       "        text-align: right;\n",
       "    }\n",
       "</style>\n",
       "<table border=\"1\" class=\"dataframe\">\n",
       "  <thead>\n",
       "    <tr style=\"text-align: right;\">\n",
       "      <th></th>\n",
       "      <th>index</th>\n",
       "      <th>song_title</th>\n",
       "    </tr>\n",
       "  </thead>\n",
       "  <tbody>\n",
       "    <tr>\n",
       "      <th>0</th>\n",
       "      <td>Taxman</td>\n",
       "      <td>Taxman Lyrics[Intro: Paul McCartney, George Ha...</td>\n",
       "    </tr>\n",
       "    <tr>\n",
       "      <th>1</th>\n",
       "      <td>Eleanor Rig</td>\n",
       "      <td>Eleanor Rigby Lyrics[Intro: Paul McCartney, Jo...</td>\n",
       "    </tr>\n",
       "    <tr>\n",
       "      <th>2</th>\n",
       "      <td>I'm Only Sleeping</td>\n",
       "      <td>I’m Only Sleeping Lyrics[Verse 1]\\nWhen I wake...</td>\n",
       "    </tr>\n",
       "    <tr>\n",
       "      <th>3</th>\n",
       "      <td>Love You To</td>\n",
       "      <td>Love You To Lyrics[Intro]\\n\\n[Verse 1]\\nEach d...</td>\n",
       "    </tr>\n",
       "    <tr>\n",
       "      <th>4</th>\n",
       "      <td>Here, There and Everywhere</td>\n",
       "      <td>Here, There and Everywhere Lyrics[Intro]\\nTo l...</td>\n",
       "    </tr>\n",
       "    <tr>\n",
       "      <th>5</th>\n",
       "      <td>Yellow Submarine</td>\n",
       "      <td>Yellow Submarine Lyrics[Verse 1: Ringo Starr]\\...</td>\n",
       "    </tr>\n",
       "    <tr>\n",
       "      <th>6</th>\n",
       "      <td>She Said She Said</td>\n",
       "      <td>She Said She Said Lyrics[Verse 1]\\nShe said, \"...</td>\n",
       "    </tr>\n",
       "    <tr>\n",
       "      <th>7</th>\n",
       "      <td>Good Day Sunshine</td>\n",
       "      <td>Good Day Sunshine Lyrics[Chorus]\\nGood day sun...</td>\n",
       "    </tr>\n",
       "    <tr>\n",
       "      <th>8</th>\n",
       "      <td>And Your Bird Can Sing</td>\n",
       "      <td>And Your Bird Can Sing Lyrics[Verse 1]\\nYou te...</td>\n",
       "    </tr>\n",
       "    <tr>\n",
       "      <th>9</th>\n",
       "      <td>For No One</td>\n",
       "      <td>For No One Lyrics[Verse 1]\\nYour day breaks, y...</td>\n",
       "    </tr>\n",
       "    <tr>\n",
       "      <th>10</th>\n",
       "      <td>Doctor Robert</td>\n",
       "      <td>Doctor Robert Lyrics[Verse 1]\\nRing, my friend...</td>\n",
       "    </tr>\n",
       "    <tr>\n",
       "      <th>11</th>\n",
       "      <td>I Want to Tell You</td>\n",
       "      <td>I Want to Tell You Lyrics[Verse 1]\\nI want to ...</td>\n",
       "    </tr>\n",
       "    <tr>\n",
       "      <th>12</th>\n",
       "      <td>Got to Get You into My Life</td>\n",
       "      <td>Got to Get You into My Life Lyrics[Verse 1]\\nI...</td>\n",
       "    </tr>\n",
       "    <tr>\n",
       "      <th>13</th>\n",
       "      <td>Tomorrow Never Knows</td>\n",
       "      <td>Tomorrow Never Knows Lyrics[Verse 1]\\nTurn off...</td>\n",
       "    </tr>\n",
       "  </tbody>\n",
       "</table>\n",
       "</div>"
      ],
      "text/plain": [
       "                          index  \\\n",
       "0                        Taxman   \n",
       "1                   Eleanor Rig   \n",
       "2             I'm Only Sleeping   \n",
       "3                   Love You To   \n",
       "4    Here, There and Everywhere   \n",
       "5              Yellow Submarine   \n",
       "6             She Said She Said   \n",
       "7             Good Day Sunshine   \n",
       "8        And Your Bird Can Sing   \n",
       "9                    For No One   \n",
       "10                Doctor Robert   \n",
       "11           I Want to Tell You   \n",
       "12  Got to Get You into My Life   \n",
       "13         Tomorrow Never Knows   \n",
       "\n",
       "                                           song_title  \n",
       "0   Taxman Lyrics[Intro: Paul McCartney, George Ha...  \n",
       "1   Eleanor Rigby Lyrics[Intro: Paul McCartney, Jo...  \n",
       "2   I’m Only Sleeping Lyrics[Verse 1]\\nWhen I wake...  \n",
       "3   Love You To Lyrics[Intro]\\n\\n[Verse 1]\\nEach d...  \n",
       "4   Here, There and Everywhere Lyrics[Intro]\\nTo l...  \n",
       "5   Yellow Submarine Lyrics[Verse 1: Ringo Starr]\\...  \n",
       "6   She Said She Said Lyrics[Verse 1]\\nShe said, \"...  \n",
       "7   Good Day Sunshine Lyrics[Chorus]\\nGood day sun...  \n",
       "8   And Your Bird Can Sing Lyrics[Verse 1]\\nYou te...  \n",
       "9   For No One Lyrics[Verse 1]\\nYour day breaks, y...  \n",
       "10  Doctor Robert Lyrics[Verse 1]\\nRing, my friend...  \n",
       "11  I Want to Tell You Lyrics[Verse 1]\\nI want to ...  \n",
       "12  Got to Get You into My Life Lyrics[Verse 1]\\nI...  \n",
       "13  Tomorrow Never Knows Lyrics[Verse 1]\\nTurn off...  "
      ]
     },
     "execution_count": 7,
     "metadata": {},
     "output_type": "execute_result"
    }
   ],
   "source": [
    "getSongs('The Beatles', album_name='Revolver')"
   ]
  },
  {
   "cell_type": "code",
   "execution_count": null,
   "metadata": {},
   "outputs": [],
   "source": []
  }
 ],
 "metadata": {
  "kernelspec": {
   "display_name": "Python 3 (ipykernel)",
   "language": "python",
   "name": "python3"
  },
  "language_info": {
   "codemirror_mode": {
    "name": "ipython",
    "version": 3
   },
   "file_extension": ".py",
   "mimetype": "text/x-python",
   "name": "python",
   "nbconvert_exporter": "python",
   "pygments_lexer": "ipython3",
   "version": "3.9.12"
  },
  "vscode": {
   "interpreter": {
    "hash": "b5726fa457c760077a5661b31b58f15902bca9f3c08e4126c0e86dd022890b44"
   }
  }
 },
 "nbformat": 4,
 "nbformat_minor": 2
}
