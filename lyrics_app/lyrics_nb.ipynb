{
 "cells": [
  {
   "cell_type": "code",
   "execution_count": 1,
   "metadata": {},
   "outputs": [],
   "source": [
    "client_access_token = \"HpIYpWE8urYEimLXmjRsNBXLUERWVVS85HHCQEWrSKBedFN0b7OxCweWpLbk7CT-\""
   ]
  },
  {
   "cell_type": "code",
   "execution_count": 2,
   "metadata": {},
   "outputs": [],
   "source": [
    "import lyricsgenius"
   ]
  },
  {
   "cell_type": "code",
   "execution_count": 3,
   "metadata": {},
   "outputs": [],
   "source": [
    "LyricsGenius = lyricsgenius.Genius(client_access_token)\n",
    "LyricsGenius.excluded_terms = [\"Live\", \"(Live)\", \"MTV Unplugged\", \"Demo\"]"
   ]
  },
  {
   "cell_type": "code",
   "execution_count": 51,
   "metadata": {},
   "outputs": [],
   "source": [
    "import json\n",
    "import pandas as pd\n",
    "import collections\n",
    "def getSongs(artist, album_name=None, max_songs=None):\n",
    "    clean_name = artist.replace(' ', '')\n",
    "    clean_album = album_name.replace(' ', '')\n",
    "    lyrics_dict = collections.defaultdict(str)\n",
    "    if album_name is None:\n",
    "        artist_obj = LyricsGenius.search_artist(artist, max_songs=max_songs)\n",
    "        artist_obj.save_lyrics(filename=f'Lyrics_{clean_name}', overwrite=True)\n",
    "        print('Data saved')\n",
    "        with open(f'Lyrics_{clean_name}.json') as f:\n",
    "            data = json.load(f)\n",
    "        print('Data loaded')\n",
    "        for song in data['songs']:\n",
    "            lyrics_dict[song['title']] += song['lyrics']\n",
    "    else:\n",
    "        album_obj = LyricsGenius.search_album(album_name, artist)\n",
    "        album_obj.save_lyrics(filename=f'Lyrics_{clean_album}', overwrite=True)\n",
    "        print('Data saved')\n",
    "        with open(f'Lyrics_{clean_album}.json') as f:\n",
    "            data = json.load(f)\n",
    "        print('Data loaded')\n",
    "        for song in data['tracks']:\n",
    "            lyrics_dict[song['song']['full_title'].split('by')[0].strip()] += song['song']['lyrics']\n",
    " \n",
    "    lyrics_df = pd.DataFrame.from_dict(dict(lyrics_dict), orient='index').reset_index().rename(columns={'index':'song_title',0:'lyrics'})\n",
    "    return lyrics_df\n",
    "    "
   ]
  },
  {
   "cell_type": "code",
   "execution_count": 52,
   "metadata": {},
   "outputs": [
    {
     "name": "stdout",
     "output_type": "stream",
     "text": [
      "Searching for \"Revolver\" by The Beatles...\n",
      "Wrote Lyrics_Revolver.json.\n",
      "Data saved\n",
      "Data loaded\n"
     ]
    }
   ],
   "source": [
    "revolver = getSongs('The Beatles', album_name='Revolver')"
   ]
  },
  {
   "cell_type": "code",
   "execution_count": 57,
   "metadata": {},
   "outputs": [
    {
     "data": {
      "text/plain": [
       "str"
      ]
     },
     "execution_count": 57,
     "metadata": {},
     "output_type": "execute_result"
    }
   ],
   "source": [
    "type(revolver.to_csv())"
   ]
  },
  {
   "cell_type": "code",
   "execution_count": null,
   "metadata": {},
   "outputs": [],
   "source": []
  }
 ],
 "metadata": {
  "kernelspec": {
   "display_name": "Python 3.9.12 ('base')",
   "language": "python",
   "name": "python3"
  },
  "language_info": {
   "codemirror_mode": {
    "name": "ipython",
    "version": 3
   },
   "file_extension": ".py",
   "mimetype": "text/x-python",
   "name": "python",
   "nbconvert_exporter": "python",
   "pygments_lexer": "ipython3",
   "version": "3.9.12"
  },
  "orig_nbformat": 4,
  "vscode": {
   "interpreter": {
    "hash": "b5726fa457c760077a5661b31b58f15902bca9f3c08e4126c0e86dd022890b44"
   }
  }
 },
 "nbformat": 4,
 "nbformat_minor": 2
}
