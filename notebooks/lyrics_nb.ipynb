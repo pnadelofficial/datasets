{
 "cells": [
  {
   "cell_type": "code",
   "execution_count": 2,
   "metadata": {},
   "outputs": [],
   "source": [
    "client_access_token = \"HpIYpWE8urYEimLXmjRsNBXLUERWVVS85HHCQEWrSKBedFN0b7OxCweWpLbk7CT-\""
   ]
  },
  {
   "cell_type": "code",
   "execution_count": 3,
   "metadata": {},
   "outputs": [],
   "source": [
    "import lyricsgenius"
   ]
  },
  {
   "cell_type": "code",
   "execution_count": 4,
   "metadata": {},
   "outputs": [],
   "source": [
    "LyricsGenius = lyricsgenius.Genius(client_access_token)\n",
    "LyricsGenius.excluded_terms = [\"Live\", \"(Live)\", \"MTV Unplugged\", \"Demo\"]"
   ]
  },
  {
   "cell_type": "code",
   "execution_count": 5,
   "metadata": {},
   "outputs": [],
   "source": [
    "import json\n",
    "import pandas as pd\n",
    "import collections\n",
    "def getSongs(artist, album_name=None, max_songs=None):\n",
    "    clean_name = artist.replace(' ', '')\n",
    "    clean_album = album_name.replace(' ', '')\n",
    "    lyrics_dict = collections.defaultdict(str)\n",
    "    if album_name is None:\n",
    "        artist_obj = LyricsGenius.search_artist(artist, max_songs=max_songs)\n",
    "        artist_obj.save_lyrics(filename=f'Lyrics_{clean_name}', overwrite=True)\n",
    "        print('Data saved')\n",
    "        with open(f'Lyrics_{clean_name}.json') as f:\n",
    "            data = json.load(f)\n",
    "        print('Data loaded')\n",
    "        for song in data['songs']:\n",
    "            lyrics_dict[song['title']] += song['lyrics']\n",
    "    else:\n",
    "        album_obj = LyricsGenius.search_album(album_name, artist)\n",
    "        album_obj.save_lyrics(filename=f'Lyrics_{clean_album}', overwrite=True)\n",
    "        print('Data saved')\n",
    "        with open(f'Lyrics_{clean_album}.json') as f:\n",
    "            data = json.load(f)\n",
    "        print('Data loaded')\n",
    "        for song in data['tracks']:\n",
    "            lyrics_dict[song['song']['full_title'].split('by')[0].strip()] += song['song']['lyrics']\n",
    " \n",
    "    lyrics_df = pd.DataFrame.from_dict(dict(lyrics_dict), orient='index').reset_index().rename(columns={'index':'song_title',0:'lyrics'})\n",
    "    return lyrics_df\n",
    "    "
   ]
  },
  {
   "cell_type": "code",
   "execution_count": 6,
   "metadata": {},
   "outputs": [
    {
     "name": "stdout",
     "output_type": "stream",
     "text": [
      "Searching for \"Debut\" by Bjork...\n",
      "Wrote Lyrics_Debut.json.\n",
      "Data saved\n",
      "Data loaded\n"
     ]
    },
    {
     "data": {
      "text/html": [
       "<div>\n",
       "<style scoped>\n",
       "    .dataframe tbody tr th:only-of-type {\n",
       "        vertical-align: middle;\n",
       "    }\n",
       "\n",
       "    .dataframe tbody tr th {\n",
       "        vertical-align: top;\n",
       "    }\n",
       "\n",
       "    .dataframe thead th {\n",
       "        text-align: right;\n",
       "    }\n",
       "</style>\n",
       "<table border=\"1\" class=\"dataframe\">\n",
       "  <thead>\n",
       "    <tr style=\"text-align: right;\">\n",
       "      <th></th>\n",
       "      <th>song_title</th>\n",
       "      <th>lyrics</th>\n",
       "    </tr>\n",
       "  </thead>\n",
       "  <tbody>\n",
       "    <tr>\n",
       "      <th>0</th>\n",
       "      <td>Human Behaviour</td>\n",
       "      <td>Human Behaviour Lyrics[Verse 1]\\nIf you ever g...</td>\n",
       "    </tr>\n",
       "    <tr>\n",
       "      <th>1</th>\n",
       "      <td>Crying</td>\n",
       "      <td>Crying Lyrics[Verse 1]\\nI travel all around th...</td>\n",
       "    </tr>\n",
       "    <tr>\n",
       "      <th>2</th>\n",
       "      <td>Venus as a Boy</td>\n",
       "      <td>Venus as a Boy Lyrics[Verse 1]\\nHis wicked sen...</td>\n",
       "    </tr>\n",
       "    <tr>\n",
       "      <th>3</th>\n",
       "      <td>There’s More to Life Than This</td>\n",
       "      <td>There’s More to Life Than This Lyrics[Verse 1:...</td>\n",
       "    </tr>\n",
       "    <tr>\n",
       "      <th>4</th>\n",
       "      <td>Like Someone in Love</td>\n",
       "      <td>Like Someone in Love Lyrics[Verse 1]\\nLately\\n...</td>\n",
       "    </tr>\n",
       "    <tr>\n",
       "      <th>5</th>\n",
       "      <td>Big Time Sensuality</td>\n",
       "      <td>Big Time Sensuality Lyrics[Verse 1]\\nI can sen...</td>\n",
       "    </tr>\n",
       "    <tr>\n",
       "      <th>6</th>\n",
       "      <td>One Day</td>\n",
       "      <td>One Day Lyrics[Intro: Sample]\\n\\n[Verse 1: Bjö...</td>\n",
       "    </tr>\n",
       "    <tr>\n",
       "      <th>7</th>\n",
       "      <td>Aeroplane</td>\n",
       "      <td>Aeroplane Lyrics[Verse 1]\\nI can not live\\nPea...</td>\n",
       "    </tr>\n",
       "    <tr>\n",
       "      <th>8</th>\n",
       "      <td>Come to Me</td>\n",
       "      <td>Come to Me Lyrics[Verse 1]\\nCome to me\\nI'll t...</td>\n",
       "    </tr>\n",
       "    <tr>\n",
       "      <th>9</th>\n",
       "      <td>Violently Happy</td>\n",
       "      <td>Violently Happy Lyrics[Verse 1]\\nSince I met y...</td>\n",
       "    </tr>\n",
       "    <tr>\n",
       "      <th>10</th>\n",
       "      <td>The Anchor Song</td>\n",
       "      <td>The Anchor Song Lyrics[Verse]\\nI live by the o...</td>\n",
       "    </tr>\n",
       "  </tbody>\n",
       "</table>\n",
       "</div>"
      ],
      "text/plain": [
       "                        song_title  \\\n",
       "0                  Human Behaviour   \n",
       "1                           Crying   \n",
       "2                   Venus as a Boy   \n",
       "3   There’s More to Life Than This   \n",
       "4             Like Someone in Love   \n",
       "5              Big Time Sensuality   \n",
       "6                          One Day   \n",
       "7                        Aeroplane   \n",
       "8                       Come to Me   \n",
       "9                  Violently Happy   \n",
       "10                 The Anchor Song   \n",
       "\n",
       "                                               lyrics  \n",
       "0   Human Behaviour Lyrics[Verse 1]\\nIf you ever g...  \n",
       "1   Crying Lyrics[Verse 1]\\nI travel all around th...  \n",
       "2   Venus as a Boy Lyrics[Verse 1]\\nHis wicked sen...  \n",
       "3   There’s More to Life Than This Lyrics[Verse 1:...  \n",
       "4   Like Someone in Love Lyrics[Verse 1]\\nLately\\n...  \n",
       "5   Big Time Sensuality Lyrics[Verse 1]\\nI can sen...  \n",
       "6   One Day Lyrics[Intro: Sample]\\n\\n[Verse 1: Bjö...  \n",
       "7   Aeroplane Lyrics[Verse 1]\\nI can not live\\nPea...  \n",
       "8   Come to Me Lyrics[Verse 1]\\nCome to me\\nI'll t...  \n",
       "9   Violently Happy Lyrics[Verse 1]\\nSince I met y...  \n",
       "10  The Anchor Song Lyrics[Verse]\\nI live by the o...  "
      ]
     },
     "execution_count": 6,
     "metadata": {},
     "output_type": "execute_result"
    }
   ],
   "source": [
    "getSongs('Bjork', 'Debut')#.to_csv('lyrics.csv')"
   ]
  },
  {
   "cell_type": "code",
   "execution_count": null,
   "metadata": {},
   "outputs": [],
   "source": []
  },
  {
   "cell_type": "code",
   "execution_count": null,
   "metadata": {},
   "outputs": [],
   "source": []
  },
  {
   "cell_type": "code",
   "execution_count": null,
   "metadata": {},
   "outputs": [],
   "source": []
  },
  {
   "cell_type": "code",
   "execution_count": 23,
   "metadata": {},
   "outputs": [
    {
     "data": {
      "text/html": [
       "<h1>Album Lyrics Generator</h1>"
      ],
      "text/plain": [
       "<IPython.core.display.HTML object>"
      ]
     },
     "execution_count": 23,
     "metadata": {},
     "output_type": "execute_result"
    }
   ],
   "source": [
    "from IPython import display\n",
    "from IPython.core.display import HTML\n",
    "HTML('<h1>Album Lyrics Generator</h1>')"
   ]
  },
  {
   "cell_type": "code",
   "execution_count": 24,
   "metadata": {},
   "outputs": [],
   "source": [
    "import ipywidgets as widgets\n",
    "from ipywidgets import interact_manual"
   ]
  },
  {
   "cell_type": "code",
   "execution_count": 25,
   "metadata": {},
   "outputs": [],
   "source": [
    "artist_search = widgets.Text(\n",
    "    value='',\n",
    "    placeholder='Type something',\n",
    "    description='Artist name:',\n",
    "    disabled=False\n",
    ")"
   ]
  },
  {
   "cell_type": "code",
   "execution_count": 26,
   "metadata": {},
   "outputs": [],
   "source": [
    "album_search = widgets.Text(\n",
    "    value='',\n",
    "    placeholder='Type something',\n",
    "    description='Album name:',\n",
    "    disabled=False\n",
    ")"
   ]
  },
  {
   "cell_type": "code",
   "execution_count": 27,
   "metadata": {},
   "outputs": [
    {
     "data": {
      "application/vnd.jupyter.widget-view+json": {
       "model_id": "eaf4547e84e647489a132e796b63dd95",
       "version_major": 2,
       "version_minor": 0
      },
      "text/plain": [
       "Text(value='', description='Artist name:', placeholder='Type something')"
      ]
     },
     "metadata": {},
     "output_type": "display_data"
    }
   ],
   "source": [
    "artist_search"
   ]
  },
  {
   "cell_type": "code",
   "execution_count": 28,
   "metadata": {},
   "outputs": [
    {
     "data": {
      "application/vnd.jupyter.widget-view+json": {
       "model_id": "ba2a766684b34bbb904e0e9c5d594ade",
       "version_major": 2,
       "version_minor": 0
      },
      "text/plain": [
       "Text(value='', description='Album name:', placeholder='Type something')"
      ]
     },
     "metadata": {},
     "output_type": "display_data"
    }
   ],
   "source": [
    "album_search"
   ]
  },
  {
   "cell_type": "code",
   "execution_count": 35,
   "metadata": {},
   "outputs": [
    {
     "ename": "ValueError",
     "evalue": "None cannot be transformed to a widget",
     "output_type": "error",
     "traceback": [
      "\u001b[0;31m---------------------------------------------------------------------------\u001b[0m",
      "\u001b[0;31mValueError\u001b[0m                                Traceback (most recent call last)",
      "\u001b[1;32m/Users/pnadel01/datasets/lyrics_app/lyrics_nb.ipynb Cell 11\u001b[0m in \u001b[0;36m<cell line: 1>\u001b[0;34m()\u001b[0m\n\u001b[0;32m----> <a href='vscode-notebook-cell:/Users/pnadel01/datasets/lyrics_app/lyrics_nb.ipynb#X24sZmlsZQ%3D%3D?line=0'>1</a>\u001b[0m interact_manual(getSongs, artist\u001b[39m=\u001b[39;49martist_search\u001b[39m.\u001b[39;49mvalue, album_name\u001b[39m=\u001b[39;49malbum_search\u001b[39m.\u001b[39;49mvalue)\n",
      "File \u001b[0;32m~/opt/anaconda3/lib/python3.9/site-packages/ipywidgets/widgets/interaction.py:529\u001b[0m, in \u001b[0;36m_InteractFactory.__call__\u001b[0;34m(self, _InteractFactory__interact_f, **kwargs)\u001b[0m\n\u001b[1;32m    521\u001b[0m     \u001b[39mreturn\u001b[39;00m \u001b[39mself\u001b[39m\n\u001b[1;32m    523\u001b[0m \u001b[39m# positional arg support in: https://gist.github.com/8851331\u001b[39;00m\n\u001b[1;32m    524\u001b[0m \u001b[39m# Handle the cases 1 and 2\u001b[39;00m\n\u001b[1;32m    525\u001b[0m \u001b[39m# 1. interact(f, **kwargs)\u001b[39;00m\n\u001b[1;32m    526\u001b[0m \u001b[39m# 2. @interact\u001b[39;00m\n\u001b[1;32m    527\u001b[0m \u001b[39m#    def f(*args, **kwargs):\u001b[39;00m\n\u001b[1;32m    528\u001b[0m \u001b[39m#        ...\u001b[39;00m\n\u001b[0;32m--> 529\u001b[0m w \u001b[39m=\u001b[39m \u001b[39mself\u001b[39;49m\u001b[39m.\u001b[39;49mwidget(f)\n\u001b[1;32m    530\u001b[0m \u001b[39mtry\u001b[39;00m:\n\u001b[1;32m    531\u001b[0m     f\u001b[39m.\u001b[39mwidget \u001b[39m=\u001b[39m w\n",
      "File \u001b[0;32m~/opt/anaconda3/lib/python3.9/site-packages/ipywidgets/widgets/interaction.py:445\u001b[0m, in \u001b[0;36m_InteractFactory.widget\u001b[0;34m(self, f)\u001b[0m\n\u001b[1;32m    429\u001b[0m \u001b[39mdef\u001b[39;00m \u001b[39mwidget\u001b[39m(\u001b[39mself\u001b[39m, f):\n\u001b[1;32m    430\u001b[0m     \u001b[39m\"\"\"\u001b[39;00m\n\u001b[1;32m    431\u001b[0m \u001b[39m    Return an interactive function widget for the given function.\u001b[39;00m\n\u001b[1;32m    432\u001b[0m \n\u001b[0;32m   (...)\u001b[0m\n\u001b[1;32m    443\u001b[0m \u001b[39m        The function to which the interactive widgets are tied.\u001b[39;00m\n\u001b[1;32m    444\u001b[0m \u001b[39m    \"\"\"\u001b[39;00m\n\u001b[0;32m--> 445\u001b[0m     \u001b[39mreturn\u001b[39;00m \u001b[39mself\u001b[39;49m\u001b[39m.\u001b[39;49mcls(f, \u001b[39mself\u001b[39;49m\u001b[39m.\u001b[39;49mopts, \u001b[39m*\u001b[39;49m\u001b[39m*\u001b[39;49m\u001b[39mself\u001b[39;49m\u001b[39m.\u001b[39;49mkwargs)\n",
      "File \u001b[0;32m~/opt/anaconda3/lib/python3.9/site-packages/ipywidgets/widgets/interaction.py:201\u001b[0m, in \u001b[0;36minteractive.__init__\u001b[0;34m(self, _interactive__interact_f, _interactive__options, **kwargs)\u001b[0m\n\u001b[1;32m    199\u001b[0m     getcallargs(f, \u001b[39m*\u001b[39m\u001b[39m*\u001b[39m{n:v \u001b[39mfor\u001b[39;00m n,v,_ \u001b[39min\u001b[39;00m new_kwargs})\n\u001b[1;32m    200\u001b[0m \u001b[39m# Now build the widgets from the abbreviations.\u001b[39;00m\n\u001b[0;32m--> 201\u001b[0m \u001b[39mself\u001b[39m\u001b[39m.\u001b[39mkwargs_widgets \u001b[39m=\u001b[39m \u001b[39mself\u001b[39;49m\u001b[39m.\u001b[39;49mwidgets_from_abbreviations(new_kwargs)\n\u001b[1;32m    203\u001b[0m \u001b[39m# This has to be done as an assignment, not using self.children.append,\u001b[39;00m\n\u001b[1;32m    204\u001b[0m \u001b[39m# so that traitlets notices the update. We skip any objects (such as fixed) that\u001b[39;00m\n\u001b[1;32m    205\u001b[0m \u001b[39m# are not DOMWidgets.\u001b[39;00m\n\u001b[1;32m    206\u001b[0m c \u001b[39m=\u001b[39m [w \u001b[39mfor\u001b[39;00m w \u001b[39min\u001b[39;00m \u001b[39mself\u001b[39m\u001b[39m.\u001b[39mkwargs_widgets \u001b[39mif\u001b[39;00m \u001b[39misinstance\u001b[39m(w, DOMWidget)]\n",
      "File \u001b[0;32m~/opt/anaconda3/lib/python3.9/site-packages/ipywidgets/widgets/interaction.py:301\u001b[0m, in \u001b[0;36minteractive.widgets_from_abbreviations\u001b[0;34m(self, seq)\u001b[0m\n\u001b[1;32m    299\u001b[0m \u001b[39mif\u001b[39;00m \u001b[39mnot\u001b[39;00m (\u001b[39misinstance\u001b[39m(widget, ValueWidget) \u001b[39mor\u001b[39;00m \u001b[39misinstance\u001b[39m(widget, fixed)):\n\u001b[1;32m    300\u001b[0m     \u001b[39mif\u001b[39;00m widget \u001b[39mis\u001b[39;00m \u001b[39mNone\u001b[39;00m:\n\u001b[0;32m--> 301\u001b[0m         \u001b[39mraise\u001b[39;00m \u001b[39mValueError\u001b[39;00m(\u001b[39m\"\u001b[39m\u001b[39m{!r}\u001b[39;00m\u001b[39m cannot be transformed to a widget\u001b[39m\u001b[39m\"\u001b[39m\u001b[39m.\u001b[39mformat(abbrev))\n\u001b[1;32m    302\u001b[0m     \u001b[39melse\u001b[39;00m:\n\u001b[1;32m    303\u001b[0m         \u001b[39mraise\u001b[39;00m \u001b[39mTypeError\u001b[39;00m(\u001b[39m\"\u001b[39m\u001b[39m{!r}\u001b[39;00m\u001b[39m is not a ValueWidget\u001b[39m\u001b[39m\"\u001b[39m\u001b[39m.\u001b[39mformat(widget))\n",
      "\u001b[0;31mValueError\u001b[0m: None cannot be transformed to a widget"
     ]
    }
   ],
   "source": [
    "interact_manual(getSongs, artist=artist_search.value, album_name=album_search.value)"
   ]
  },
  {
   "cell_type": "code",
   "execution_count": null,
   "metadata": {},
   "outputs": [],
   "source": []
  }
 ],
 "metadata": {
  "kernelspec": {
   "display_name": "Python 3.9.12 ('base')",
   "language": "python",
   "name": "python3"
  },
  "language_info": {
   "codemirror_mode": {
    "name": "ipython",
    "version": 3
   },
   "file_extension": ".py",
   "mimetype": "text/x-python",
   "name": "python",
   "nbconvert_exporter": "python",
   "pygments_lexer": "ipython3",
   "version": "3.9.12"
  },
  "orig_nbformat": 4,
  "vscode": {
   "interpreter": {
    "hash": "b5726fa457c760077a5661b31b58f15902bca9f3c08e4126c0e86dd022890b44"
   }
  }
 },
 "nbformat": 4,
 "nbformat_minor": 2
}
