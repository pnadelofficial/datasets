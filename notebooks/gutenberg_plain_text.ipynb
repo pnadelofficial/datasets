{
 "cells": [
  {
   "cell_type": "code",
   "execution_count": null,
   "id": "88ccd2c5",
   "metadata": {},
   "outputs": [],
   "source": [
    "import requests\n",
    "from nltk.tokenize import sent_tokenize\n",
    "import pandas as pd"
   ]
  },
  {
   "cell_type": "code",
   "execution_count": null,
   "id": "8ffae2f4",
   "metadata": {},
   "outputs": [],
   "source": [
    "def get_text(url, title, author, start, end, path):\n",
    "    response = requests.get(url)\n",
    "    raw_text = response.text\n",
    "    start_index = raw_text.find(start)\n",
    "    end_index = raw_text.find(end)\n",
    "    target_text =  raw_text[start_index:end_index]\n",
    "    target_text = target_text.replace('\\n', '')\n",
    "    target_text = target_text.replace('\\r', ' ')  # note \\r is replaced with a space\n",
    "    sentences = sent_tokenize(target_text)\n",
    "    df = pd.DataFrame(sentences)\n",
    "    df.to_csv(f'{path}{author}_{title}.csv')\n",
    "    print(df.head())"
   ]
  },
  {
   "cell_type": "code",
   "execution_count": null,
   "id": "b4617c6e",
   "metadata": {},
   "outputs": [],
   "source": [
    "texts = [\n",
    "    {\n",
    "        'url': 'https://www.gutenberg.org/cache/epub/6130/pg6130.txt',\n",
    "        'title': 'iliad',\n",
    "        'author': 'homer',\n",
    "        'start': 'Achilles’ wrath, to Greece the direful spring',\n",
    "        'end': '*** END'\n",
    "    },\n",
    "    {\n",
    "        'url': 'https://www.gutenberg.org/cache/epub/3296/pg3296.txt',\n",
    "        'title': 'confessions',\n",
    "        'author': 'augustine',\n",
    "        'start': 'Great art Thou, O Lord, and greatly to be praised',\n",
    "        'end': '*** END'\n",
    "    },\n",
    "    {\n",
    "        'url': 'https://www.gutenberg.org/cache/epub/228/pg228.txt',\n",
    "        'title': 'aeneid',\n",
    "        'author': 'virgil',\n",
    "        'start': 'Arms, and the man I sing, who, forc’d by fate',\n",
    "        'end': '*** END'\n",
    "    },\n",
    "    {\n",
    "        'url': 'https://www.gutenberg.org/cache/epub/1228/pg1228.txt',\n",
    "        'title': 'origin',\n",
    "        'author': 'darwin',\n",
    "        'start': 'When on board H.M.S. ‘Beagle,’ as naturalist',\n",
    "        'end': '*** END'\n",
    "    },\n",
    "    {\n",
    "        'url': 'https://www.gutenberg.org/files/98/98-0.txt',\n",
    "        'title': 'tale',\n",
    "        'author': 'dickens',\n",
    "        'start': 'It was the best of times',\n",
    "        'end': '*** END'\n",
    "    },\n",
    "    {\n",
    "        'url': 'https://www.gutenberg.org/files/4280/4280-0.txt',\n",
    "        'title': 'pure_reason',\n",
    "        'author': 'kant',\n",
    "        'start': 'Human reason, in one sphere of its cognition',\n",
    "        'end': '*** END'\n",
    "    },\n",
    "    {\n",
    "        'url': 'https://www.gutenberg.org/cache/epub/64317/pg64317.txt',\n",
    "        'title': 'gatsby',\n",
    "        'author': 'fitzgerald',\n",
    "        'start': 'In my younger and more vulnerable years',\n",
    "        'end': '*** END'\n",
    "    },\n",
    "    {\n",
    "        'url': 'https://www.gutenberg.org/cache/epub/1342/pg1342.txt',\n",
    "        'title': 'pride',\n",
    "        'author': 'austen',\n",
    "        'start': 'It is a truth universally acknowledged',\n",
    "        'end': '*** END'\n",
    "    },\n",
    "    {\n",
    "        'url': 'https://www.gutenberg.org/cache/epub/41445/pg41445.txt',\n",
    "        'title': 'frankenstein',\n",
    "        'author': 'shelley',\n",
    "        'start': 'You will rejoice to hear',\n",
    "        'end': '*** END'\n",
    "    }\n",
    "]"
   ]
  },
  {
   "cell_type": "code",
   "execution_count": null,
   "id": "0390f7af",
   "metadata": {},
   "outputs": [],
   "source": [
    "path = '../'\n",
    "for text in texts:\n",
    "    url = text['url']\n",
    "    title = text['title']\n",
    "    author = text['author']\n",
    "    start = text['start']\n",
    "    end = text['end']\n",
    "    get_text(url=url, title=title, author=author, start=start, end=end, path=path)"
   ]
  },
  {
   "cell_type": "code",
   "execution_count": null,
   "id": "03a10c25",
   "metadata": {},
   "outputs": [],
   "source": []
  }
 ],
 "metadata": {
  "kernelspec": {
   "display_name": "Python 3 (ipykernel)",
   "language": "python",
   "name": "python3"
  },
  "language_info": {
   "codemirror_mode": {
    "name": "ipython",
    "version": 3
   },
   "file_extension": ".py",
   "mimetype": "text/x-python",
   "name": "python",
   "nbconvert_exporter": "python",
   "pygments_lexer": "ipython3",
   "version": "3.9.13"
  }
 },
 "nbformat": 4,
 "nbformat_minor": 5
}
