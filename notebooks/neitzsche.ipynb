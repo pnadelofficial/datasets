{
 "cells": [
  {
   "cell_type": "code",
   "execution_count": 2,
   "metadata": {},
   "outputs": [],
   "source": [
    "import requests\n",
    "from bs4 import BeautifulSoup\n",
    "import pandas as pd"
   ]
  },
  {
   "cell_type": "code",
   "execution_count": 1,
   "metadata": {},
   "outputs": [],
   "source": [
    "index_url = 'https://www.gutenberg.org/files/58025/58025-h/58025-h.htm'"
   ]
  },
  {
   "cell_type": "code",
   "execution_count": 35,
   "metadata": {},
   "outputs": [
    {
     "name": "stderr",
     "output_type": "stream",
     "text": [
      "/Users/pnadel01/opt/anaconda3/lib/python3.9/site-packages/bs4/builder/__init__.py:545: XMLParsedAsHTMLWarning: It looks like you're parsing an XML document using an HTML parser. If this really is an HTML document (maybe it's XHTML?), you can ignore or filter this warning. If it's XML, you should know that using an XML parser will be more reliable. To parse this document as XML, make sure you have the lxml package installed, and pass the keyword argument `features=\"xml\"` into the BeautifulSoup constructor.\n",
      "  warnings.warn(\n"
     ]
    }
   ],
   "source": [
    "index_soup = BeautifulSoup(requests.get(index_url).text, features='html')\n",
    "index_dict = {}\n",
    "\n",
    "for a in index_soup.find('table').find_all('a'):\n",
    "    if a.text.isupper():\n",
    "        index_dict[a.text] = a['href']\n",
    "\n",
    "n_df = pd.DataFrame.from_dict(index_dict, orient='index').reset_index().rename(columns={'index':'book_title',0:'link'})"
   ]
  },
  {
   "cell_type": "code",
   "execution_count": 36,
   "metadata": {},
   "outputs": [
    {
     "data": {
      "text/html": [
       "<div>\n",
       "<style scoped>\n",
       "    .dataframe tbody tr th:only-of-type {\n",
       "        vertical-align: middle;\n",
       "    }\n",
       "\n",
       "    .dataframe tbody tr th {\n",
       "        vertical-align: top;\n",
       "    }\n",
       "\n",
       "    .dataframe thead th {\n",
       "        text-align: right;\n",
       "    }\n",
       "</style>\n",
       "<table border=\"1\" class=\"dataframe\">\n",
       "  <thead>\n",
       "    <tr style=\"text-align: right;\">\n",
       "      <th></th>\n",
       "      <th>book_title</th>\n",
       "      <th>link</th>\n",
       "    </tr>\n",
       "  </thead>\n",
       "  <tbody>\n",
       "    <tr>\n",
       "      <th>0</th>\n",
       "      <td>THUS\\r\\n          SPAKE ZARATHUSTRA</td>\n",
       "      <td>http://www.gutenberg.org/files/1998/1998-h/199...</td>\n",
       "    </tr>\n",
       "    <tr>\n",
       "      <th>1</th>\n",
       "      <td>BEYOND\\r\\n          GOOD AND EVIL</td>\n",
       "      <td>http://www.gutenberg.org/files/4363/4363-h/436...</td>\n",
       "    </tr>\n",
       "    <tr>\n",
       "      <th>2</th>\n",
       "      <td>THOUGHTS\\r\\n          OUT OF SEASON, PART I</td>\n",
       "      <td>http://www.gutenberg.org/files/51710/51710-h/5...</td>\n",
       "    </tr>\n",
       "    <tr>\n",
       "      <th>3</th>\n",
       "      <td>THOUGHTS\\r\\n          OUT OF SEASON, PART II</td>\n",
       "      <td>http://www.gutenberg.org/files/38226/38226-h/3...</td>\n",
       "    </tr>\n",
       "    <tr>\n",
       "      <th>4</th>\n",
       "      <td>WE\\r\\n          PHILOLOGISTS</td>\n",
       "      <td>http://www.gutenberg.org/files/18267/18267-h/1...</td>\n",
       "    </tr>\n",
       "    <tr>\n",
       "      <th>5</th>\n",
       "      <td>THE\\r\\n          ANTICHRIST</td>\n",
       "      <td>http://www.gutenberg.org/files/19322/19322-h/1...</td>\n",
       "    </tr>\n",
       "    <tr>\n",
       "      <th>6</th>\n",
       "      <td>CASE\\r\\n          OF WAGNER, NIETZSCHE CONTRA ...</td>\n",
       "      <td>http://www.gutenberg.org/files/25012/25012-h/2...</td>\n",
       "    </tr>\n",
       "    <tr>\n",
       "      <th>7</th>\n",
       "      <td>THE\\r\\n          DAWN OF DAY</td>\n",
       "      <td>http://www.gutenberg.org/files/39955/39955-h/3...</td>\n",
       "    </tr>\n",
       "    <tr>\n",
       "      <th>8</th>\n",
       "      <td>THE\\r\\n          BIRTH OF TRAGEDY</td>\n",
       "      <td>http://www.gutenberg.org/files/51356/51356-h/5...</td>\n",
       "    </tr>\n",
       "    <tr>\n",
       "      <th>9</th>\n",
       "      <td>FUTURE\\r\\n          OF OUR EDUCATIONAL INSTITU...</td>\n",
       "      <td>http://www.gutenberg.org/files/51580/51580-h/5...</td>\n",
       "    </tr>\n",
       "    <tr>\n",
       "      <th>10</th>\n",
       "      <td>HUMAN,\\r\\n          ALL-TOO-HUMAN, PART 1</td>\n",
       "      <td>http://www.gutenberg.org/files/51935/51935-h/5...</td>\n",
       "    </tr>\n",
       "    <tr>\n",
       "      <th>11</th>\n",
       "      <td>HUMAN,\\r\\n          ALL-TOO-HUMAN, PART II</td>\n",
       "      <td>http://www.gutenberg.org/files/37841/37841-h/3...</td>\n",
       "    </tr>\n",
       "    <tr>\n",
       "      <th>12</th>\n",
       "      <td>THE\\r\\n          JOYFUL WISDOM</td>\n",
       "      <td>http://www.gutenberg.org/files/52124/52124-h/5...</td>\n",
       "    </tr>\n",
       "    <tr>\n",
       "      <th>13</th>\n",
       "      <td>THE\\r\\n          CASE OF WAGNER</td>\n",
       "      <td>http://www.gutenberg.org/files/52166/52166-h/5...</td>\n",
       "    </tr>\n",
       "    <tr>\n",
       "      <th>14</th>\n",
       "      <td>ECCE\\r\\n          HOMO</td>\n",
       "      <td>http://www.gutenberg.org/files/52190/52190-h/5...</td>\n",
       "    </tr>\n",
       "    <tr>\n",
       "      <th>15</th>\n",
       "      <td>THE\\r\\n          TWILIGHT OF THE IDOLS</td>\n",
       "      <td>http://www.gutenberg.org/files/52263/52263-h/5...</td>\n",
       "    </tr>\n",
       "    <tr>\n",
       "      <th>16</th>\n",
       "      <td>THE\\r\\n          GENEALOGY OF MORALS</td>\n",
       "      <td>http://www.gutenberg.org/files/52319/52319-h/5...</td>\n",
       "    </tr>\n",
       "    <tr>\n",
       "      <th>17</th>\n",
       "      <td>THE\\r\\n          WILL TO POWER, BOOK I AND II</td>\n",
       "      <td>http://www.gutenberg.org/files/52914/52914-h/5...</td>\n",
       "    </tr>\n",
       "    <tr>\n",
       "      <th>18</th>\n",
       "      <td>THE\\r\\n          WILL TO POWER, BOOK III AND IV</td>\n",
       "      <td>http://www.gutenberg.org/files/52915/52915-h/5...</td>\n",
       "    </tr>\n",
       "  </tbody>\n",
       "</table>\n",
       "</div>"
      ],
      "text/plain": [
       "                                           book_title  \\\n",
       "0                 THUS\\r\\n          SPAKE ZARATHUSTRA   \n",
       "1                   BEYOND\\r\\n          GOOD AND EVIL   \n",
       "2         THOUGHTS\\r\\n          OUT OF SEASON, PART I   \n",
       "3        THOUGHTS\\r\\n          OUT OF SEASON, PART II   \n",
       "4                        WE\\r\\n          PHILOLOGISTS   \n",
       "5                         THE\\r\\n          ANTICHRIST   \n",
       "6   CASE\\r\\n          OF WAGNER, NIETZSCHE CONTRA ...   \n",
       "7                        THE\\r\\n          DAWN OF DAY   \n",
       "8                   THE\\r\\n          BIRTH OF TRAGEDY   \n",
       "9   FUTURE\\r\\n          OF OUR EDUCATIONAL INSTITU...   \n",
       "10          HUMAN,\\r\\n          ALL-TOO-HUMAN, PART 1   \n",
       "11         HUMAN,\\r\\n          ALL-TOO-HUMAN, PART II   \n",
       "12                     THE\\r\\n          JOYFUL WISDOM   \n",
       "13                    THE\\r\\n          CASE OF WAGNER   \n",
       "14                             ECCE\\r\\n          HOMO   \n",
       "15             THE\\r\\n          TWILIGHT OF THE IDOLS   \n",
       "16               THE\\r\\n          GENEALOGY OF MORALS   \n",
       "17      THE\\r\\n          WILL TO POWER, BOOK I AND II   \n",
       "18    THE\\r\\n          WILL TO POWER, BOOK III AND IV   \n",
       "\n",
       "                                                 link  \n",
       "0   http://www.gutenberg.org/files/1998/1998-h/199...  \n",
       "1   http://www.gutenberg.org/files/4363/4363-h/436...  \n",
       "2   http://www.gutenberg.org/files/51710/51710-h/5...  \n",
       "3   http://www.gutenberg.org/files/38226/38226-h/3...  \n",
       "4   http://www.gutenberg.org/files/18267/18267-h/1...  \n",
       "5   http://www.gutenberg.org/files/19322/19322-h/1...  \n",
       "6   http://www.gutenberg.org/files/25012/25012-h/2...  \n",
       "7   http://www.gutenberg.org/files/39955/39955-h/3...  \n",
       "8   http://www.gutenberg.org/files/51356/51356-h/5...  \n",
       "9   http://www.gutenberg.org/files/51580/51580-h/5...  \n",
       "10  http://www.gutenberg.org/files/51935/51935-h/5...  \n",
       "11  http://www.gutenberg.org/files/37841/37841-h/3...  \n",
       "12  http://www.gutenberg.org/files/52124/52124-h/5...  \n",
       "13  http://www.gutenberg.org/files/52166/52166-h/5...  \n",
       "14  http://www.gutenberg.org/files/52190/52190-h/5...  \n",
       "15  http://www.gutenberg.org/files/52263/52263-h/5...  \n",
       "16  http://www.gutenberg.org/files/52319/52319-h/5...  \n",
       "17  http://www.gutenberg.org/files/52914/52914-h/5...  \n",
       "18  http://www.gutenberg.org/files/52915/52915-h/5...  "
      ]
     },
     "execution_count": 36,
     "metadata": {},
     "output_type": "execute_result"
    }
   ],
   "source": [
    "n_df"
   ]
  },
  {
   "cell_type": "code",
   "execution_count": 41,
   "metadata": {},
   "outputs": [],
   "source": [
    "def get_text(url):\n",
    "    soup = BeautifulSoup(requests.get(url).text, features='html')\n",
    "    text = ''\n",
    "    for tag in soup.find_all('h2'):\n",
    "        for t in tag.next_siblings:\n",
    "            if t.name == 'p':\n",
    "                text += t.text\n",
    "    return text"
   ]
  },
  {
   "cell_type": "code",
   "execution_count": 42,
   "metadata": {},
   "outputs": [
    {
     "name": "stderr",
     "output_type": "stream",
     "text": [
      "/Users/pnadel01/opt/anaconda3/lib/python3.9/site-packages/bs4/builder/__init__.py:545: XMLParsedAsHTMLWarning: It looks like you're parsing an XML document using an HTML parser. If this really is an HTML document (maybe it's XHTML?), you can ignore or filter this warning. If it's XML, you should know that using an XML parser will be more reliable. To parse this document as XML, make sure you have the lxml package installed, and pass the keyword argument `features=\"xml\"` into the BeautifulSoup constructor.\n",
      "  warnings.warn(\n"
     ]
    }
   ],
   "source": [
    "n_df['raw_text'] = n_df.link.apply(get_text)"
   ]
  },
  {
   "cell_type": "code",
   "execution_count": 44,
   "metadata": {},
   "outputs": [],
   "source": [
    "n_df.to_csv('neitzsche_complete_works.csv')"
   ]
  },
  {
   "cell_type": "code",
   "execution_count": null,
   "metadata": {},
   "outputs": [],
   "source": []
  }
 ],
 "metadata": {
  "kernelspec": {
   "display_name": "Python 3.9.12 ('base')",
   "language": "python",
   "name": "python3"
  },
  "language_info": {
   "codemirror_mode": {
    "name": "ipython",
    "version": 3
   },
   "file_extension": ".py",
   "mimetype": "text/x-python",
   "name": "python",
   "nbconvert_exporter": "python",
   "pygments_lexer": "ipython3",
   "version": "3.9.12"
  },
  "orig_nbformat": 4,
  "vscode": {
   "interpreter": {
    "hash": "b5726fa457c760077a5661b31b58f15902bca9f3c08e4126c0e86dd022890b44"
   }
  }
 },
 "nbformat": 4,
 "nbformat_minor": 2
}
